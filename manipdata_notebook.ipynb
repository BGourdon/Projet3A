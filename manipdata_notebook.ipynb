{
 "cells": [
  {
   "cell_type": "markdown",
   "metadata": {},
   "source": [
    "# Première étude des dataset\n"
   ]
  },
  {
   "cell_type": "markdown",
   "metadata": {},
   "source": [
    "### *Importation des 4 fichiers csv*"
   ]
  },
  {
   "cell_type": "code",
   "execution_count": 1,
   "metadata": {},
   "outputs": [],
   "source": [
    "indicators<-read.csv2(\"Indicators.csv\", dec=\".\", sep=\";\", header=T)\n",
    "economicinfo<-read.csv2(\"economic_info.csv\", dec=\".\", sep=\";\", header=T)\n",
    "datacrop<-read.csv2(\"MAELIA_crop_raw.csv\", dec=\".\", sep=\";\", header=T)\n",
    "datalivestock<-read.csv2(\"MAELIA_livestock_raw.csv\", dec=\".\", sep=\";\", header=T)"
   ]
  },
  {
   "cell_type": "markdown",
   "metadata": {},
   "source": [
    "*On renomme les colonnes pour faciliter la manipulation :*"
   ]
  },
  {
   "cell_type": "code",
   "execution_count": 2,
   "metadata": {},
   "outputs": [],
   "source": [
    "date <- c(\"2005\",\"2006\",\"2007\",\"2008\",\"2009\",\"2010\",\"2011\",\"2012\",\"2013\",\"2014\",\"2015\",\"2016\",\"2017\")\n",
    "names(indicators) <- c(\"Scenario\", \"Level\", \"Indicator\", date)\n",
    "names(economicinfo) <- c(\"Group\", \"Variable\", date)\n",
    "names(datacrop) <- c(\"Scenario\", \"Year\", \"Farm\", \"Parcel\", \"Crop\", \"Yield\", \"Area\", \"Revenue\", \"Variablecost\", \"Energy\", \"ProteinkgN\", \"PDIN\", \"ProteinN.ton\", \"Nitrogen\", \"Phosphorus\", \"Potassium\", \"Active ingredient\")\n",
    "names(datalivestock) <- c(\"Scenario\", \"Year\", \"Farm\", \"Milk revenue\", \"Feed cost\")"
   ]
  },
  {
   "cell_type": "markdown",
   "metadata": {},
   "source": [
    "*On réalise un premier résumé des 4 fichiers :*"
   ]
  },
  {
   "cell_type": "code",
   "execution_count": null,
   "metadata": {},
   "outputs": [],
   "source": [
    "summary(indicators)\n",
    "summary(economicinfo)\n",
    "summary(datacrop)\n",
    "summary(datalivestock)"
   ]
  },
  {
   "cell_type": "markdown",
   "metadata": {},
   "source": [
    "### *Fonction de choix d'un scénario, d'un niveau d'étude, d'une culture, et d'un indicateur*"
   ]
  },
  {
   "cell_type": "markdown",
   "metadata": {},
   "source": [
    "*Cette fonction utilise le fichier d'output MAELIA_crop.*  \n",
    "*Elle prend en argument un scénario, un niveau d'étude, une culture et un indicateur et sort un sous dataset du fichier d'origine comprenant les colonnes et les lignes choisies.*  \n",
    "  \n",
    "**WARNING** : bien respecter l'orthographe, les majuscules et les guillemets.    \n",
    "Les différents arguments possibles sont : \n",
    "* scenario : \"Baseline situation\" ; \"Coexistence scenario\" ; \"Complementarity scenario\" ; \"Synergetic scenario\"\n",
    "* level : \"arable\" ; \"livestock\" ; \"territory\" ; \"AF1\" ; \"AF2\" ; ... ; \"AF5\" ; \"LF1\" ; \"LF2\"\n",
    "* culture : \"BarleyS\" ; \"BarleyW\" ; \"Buckwheat\" ; \"FavaB\" ; \"Flax\" ; \"Fodder\" ; \"gMaize\" ; \"Gpea\" ; \"Hay\" ; \"Hemp\" ; \"Lucern\" ; \"Lupin\" ; \"Mix_CerG\" ; \"OSR\" ; \"sMaize\" ; \"Tritic\" ; \"WheatW\"\n",
    "* indicateur : \"Yield\" ; \"Area\" ; \"Revenue\" ; \"Variablecost\" ; \"Energy\" ; \"ProteinkgN\" ; \"PDIN\" ; \"ProteinN.ton\" ; \"Nitrogen\" ; \"Phosphorus\" ; \"Potassium\" ; \"Active ingredient\"\n"
   ]
  },
  {
   "cell_type": "code",
   "execution_count": 8,
   "metadata": {},
   "outputs": [],
   "source": [
    "dataset <- function(scenario, level, culture, indicateur) {\n",
    "  if (level == \"arable\"){\n",
    "      subset1 <- subset(datacrop, Scenario == scenario)\n",
    "      subset2 <- subset(subset1, Farm == \"AF1\" | Farm == \"AF2\" | Farm == \"AF3\" | Farm == \"AF4\" | Farm ==\"AF5\")\n",
    "      subset3 <- subset(subset2, Crop == culture)\n",
    "      subset4 <- subset(subset3, select = c(\"Scenario\", \"Year\", \"Farm\", \"Parcel\", \"Crop\", indicateur))\n",
    "  }else if (level == \"livestock\"){\n",
    "      subset1 <- subset(datacrop, Scenario == scenario)\n",
    "      subset2 <- subset(subset1, Farm == \"LF1\" | Farm == \"LF2\")\n",
    "      subset3 <- subset(subset2, Crop == culture)\n",
    "      subset4 <- subset(subset3, select = c(\"Scenario\", \"Year\", \"Farm\", \"Parcel\", \"Crop\", indicateur))\n",
    "  }else if (level == \"territory\"){\n",
    "      subset1 <- subset(datacrop, Scenario == scenario)\n",
    "      subset2 <- subset(subset1, Farm == \"AF1\" | Farm == \"AF2\" | Farm == \"AF3\" | Farm == \"AF4\" | Farm ==\"AF5\" | Farm == \"LF1\" | Farm == \"LF2\")\n",
    "      subset3 <- subset(subset2, Crop == culture)\n",
    "      subset4 <- subset(subset3, select = c(\"Scenario\", \"Year\", \"Farm\", \"Parcel\", \"Crop\", indicateur))\n",
    "  }else{\n",
    "      subset1 <- subset(datacrop, Scenario == scenario)\n",
    "      subset2 <- subset(subset1, Farm == level)\n",
    "      subset3 <- subset(subset2, Crop == culture)\n",
    "      subset4 <- subset(subset3, select = c(\"Scenario\", \"Year\", \"Farm\", \"Parcel\", \"Crop\", indicateur))\n",
    "  }\n",
    "  return(subset4)\n",
    "}"
   ]
  },
  {
   "cell_type": "markdown",
   "metadata": {},
   "source": [
    "##### *Exemple pour l'étude des rendements de la culture WheatW, pour le groupement de fermes arable, dans le scenario Baseline :*"
   ]
  },
  {
   "cell_type": "code",
   "execution_count": 6,
   "metadata": {},
   "outputs": [
    {
     "data": {
      "text/plain": [
       "                     Scenario        Year       Farm         Parcel   \n",
       " Baseline situation      :421   Min.   :2005   AF1: 74   5011_00:  9  \n",
       " Coexistence scenario    :  0   1st Qu.:2008   AF2: 51   5011_01:  9  \n",
       " Complementarity scenario:  0   Median :2011   AF3:114   105_00 :  8  \n",
       " Synergetic scenario     :  0   Mean   :2011   AF4: 89   2021_00:  8  \n",
       "                                3rd Qu.:2014   AF5: 93   5010_00:  8  \n",
       "                                Max.   :2017   LF1:  0   5014_00:  8  \n",
       "                                               LF2:  0   (Other):371  \n",
       "        Crop         Yield      \n",
       " WheatW   :421   Min.   :4.510  \n",
       " BarleyS  :  0   1st Qu.:7.410  \n",
       " BarleyW  :  0   Median :7.490  \n",
       " Buckwheat:  0   Mean   :7.328  \n",
       " FavaB    :  0   3rd Qu.:7.500  \n",
       " Flax     :  0   Max.   :7.500  \n",
       " (Other)  :  0                  "
      ]
     },
     "metadata": {},
     "output_type": "display_data"
    }
   ],
   "source": [
    "exdataset <- dataset(\"Baseline situation\", \"arable\", \"WheatW\", \"Yield\")\n",
    "summary(exdataset)"
   ]
  },
  {
   "cell_type": "code",
   "execution_count": 7,
   "metadata": {},
   "outputs": [
    {
     "data": {
      "text/plain": [
       "   Min. 1st Qu.  Median    Mean 3rd Qu.    Max. \n",
       "  4.510   7.410   7.490   7.328   7.500   7.500 "
      ]
     },
     "metadata": {},
     "output_type": "display_data"
    }
   ],
   "source": [
    "summary(exdataset$Yield)"
   ]
  },
  {
   "cell_type": "code",
   "execution_count": null,
   "metadata": {},
   "outputs": [],
   "source": []
  }
 ],
 "metadata": {
  "kernelspec": {
   "display_name": "R",
   "language": "R",
   "name": "ir"
  },
  "language_info": {
   "codemirror_mode": "r",
   "file_extension": ".r",
   "mimetype": "text/x-r-source",
   "name": "R",
   "pygments_lexer": "r",
   "version": "3.6.1"
  }
 },
 "nbformat": 4,
 "nbformat_minor": 4
}
