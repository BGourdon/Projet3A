{
 "cells": [
  {
   "cell_type": "markdown",
   "metadata": {},
   "source": [
    "# *Fonctions de calcul des critères de dynamique et de création de datasets utilisables pour les PA Energy Yield (EY) et Gross Margin (GM)*"
   ]
  },
  {
   "cell_type": "code",
   "execution_count": null,
   "metadata": {},
   "outputs": [],
   "source": [
    "# Importation librairies \n",
    "library(tidyverse)\n",
    "library(reshape2)\n",
    "library(cowplot)\n",
    "library(magrittr)\n",
    "library(ggplot2)\n",
    "library(corrplot)\n",
    "library(slider)\n",
    "library(nlme)"
   ]
  },
  {
   "cell_type": "code",
   "execution_count": 2,
   "metadata": {},
   "outputs": [],
   "source": [
    "# Création des sous fichiers à partir des données originelles \n",
    "datafarm <- read.csv2(\"PAs_farm_df.csv\", dec=\".\", sep=\";\", header=T)\n",
    "datater <- read.csv2(\"PAs_terr_df.csv\", dec=\".\", sep=\";\", header=T)\n",
    "dataEYfarm <- subset(datafarm, select = c(1, 2, 3, 4, 5, 6, 7, 8))\n",
    "dataGMfarm <- subset(datafarm, select = c(1, 2, 3, 4, 5, 6, 7, 10))\n",
    "dataEYter <- subset(datater, select = c(1, 2, 3, 4, 5, 6))\n",
    "dataGMter <- subset(datater, select = c(1, 2, 3, 4, 5, 8))"
   ]
  },
  {
   "cell_type": "markdown",
   "metadata": {},
   "source": [
    "### 1. Fonctions de calcul de la métrique MEAN pour le CD Level"
   ]
  },
  {
   "cell_type": "markdown",
   "metadata": {},
   "source": [
    "#### 1.1_ Au niveau Farm et Group"
   ]
  },
  {
   "cell_type": "code",
   "execution_count": 12,
   "metadata": {},
   "outputs": [],
   "source": [
    "levelfarm <- function(data, nperf, mod){\n",
    "  \n",
    "  df <- subset(data, Mod == mod)\n",
    "  \n",
    "  for(i in 8:nperf){\n",
    "    \n",
    "    name <- colnames(df)[i]\n",
    "    \n",
    "    colnames(df)[i] <- \"perf\"\n",
    "    \n",
    "    df <- df%>%\n",
    "      group_by(Farm, RCP, SSP)%>%\n",
    "      mutate(levelFarm = mean(perf))%>%# mean level\n",
    "      ungroup()\n",
    "    \n",
    "    df <- df %>%\n",
    "      group_by(Farm_group, RCP, SSP, Year)%>%\n",
    "      mutate(MoyGroup = mean(perf))%>%\n",
    "      ungroup()\n",
    "    \n",
    "    df <- df %>%\n",
    "      group_by(Farm_group, RCP, SSP)%>%\n",
    "      mutate(levelGroup = mean(MoyGroup))%>%\n",
    "      ungroup()\n",
    "    \n",
    "    df <- select(df, - MoyGroup)\n",
    "    \n",
    "    colnames(df)[c((ncol(df)-1): ncol(df))] <- c(paste0(name,\".level_Farm\"),paste0(name,\".level_Group\"))\n",
    "    colnames(df)[i] <- name\n",
    "  }\n",
    "  return(df)\n",
    "}"
   ]
  },
  {
   "cell_type": "markdown",
   "metadata": {},
   "source": [
    "#### 1.2_ Au niveau Territoire"
   ]
  },
  {
   "cell_type": "code",
   "execution_count": 13,
   "metadata": {},
   "outputs": [],
   "source": [
    "levelter <- function(data, nperf, mod){\n",
    "  \n",
    "  df <- subset(data, Mod == mod)\n",
    "  \n",
    "  for(i in 6:nperf){\n",
    "    #df <- data\n",
    "    name <- colnames(df)[i]\n",
    "    \n",
    "    colnames(df)[i] <- \"perf\"\n",
    "    \n",
    "    df <- df %>%\n",
    "      group_by(RCP, SSP, Year)%>%\n",
    "      mutate(MoyTer = mean(perf))%>%\n",
    "      ungroup()\n",
    "    \n",
    "    df <- df %>%\n",
    "      group_by(RCP, SSP)%>%\n",
    "      mutate(levelTerritory = mean(MoyTer))%>%\n",
    "      ungroup()\n",
    "    \n",
    "    df <- select(df, - MoyTer)\n",
    "    \n",
    "    colnames(df)[ncol(df)] <- paste0(name,\".level_Territory\")\n",
    "    colnames(df)[i] <- name\n",
    "  }\n",
    "  return(df)\n",
    "}"
   ]
  },
  {
   "cell_type": "markdown",
   "metadata": {},
   "source": [
    "### 2. Fonctions de calcul de la métrique SLOPE OF LINEAR REGRESSION pour le CD Trend"
   ]
  },
  {
   "cell_type": "markdown",
   "metadata": {},
   "source": [
    "#### 2.1_ Au niveau Farm et Group"
   ]
  },
  {
   "cell_type": "code",
   "execution_count": 14,
   "metadata": {},
   "outputs": [],
   "source": [
    "trendfarm <- function(data, nperf, mod){\n",
    "  \n",
    "  df <- subset(data, Mod == mod)\n",
    "  \n",
    "  for(i in 8:nperf){\n",
    "    \n",
    "    name <- colnames(df)[i]\n",
    "    \n",
    "    colnames(df)[i] <- \"perf\"\n",
    "    \n",
    "    df <- df%>%\n",
    "      group_by(Farm, RCP, SSP)%>%\n",
    "      mutate(TRENDf_Farm = if(all(is.na(perf))) NA else lm(perf ~ Year, na.action = na.exclude)$coefficients[[2]])%>% # slope of linear regression\n",
    "      ungroup()\n",
    "    \n",
    "    df <- df %>%\n",
    "      group_by(Farm_group, RCP, SSP, Year)%>%\n",
    "      mutate(MoyGroup = mean(perf))%>%\n",
    "      ungroup()\n",
    "    \n",
    "    df <- df %>%\n",
    "      group_by(Farm_group, RCP, SSP)%>%\n",
    "      mutate(TRENDf_Group = if(all(is.na(MoyGroup))) NA else lm(MoyGroup ~ Year, na.action = na.exclude)$coefficients[[2]])%>% # slope of linear regression\n",
    "      ungroup()\n",
    "    \n",
    "    df <- select(df, - MoyGroup)\n",
    "    \n",
    "    colnames(df)[c((ncol(df)-1): ncol(df))] <- c(paste0(name,\".TRENDf_Farm\"),paste0(name,\".TRENDf_Group\"))\n",
    "    colnames(df)[i] <- name\n",
    "  }\n",
    "  return(df)\n",
    "  \n",
    "}"
   ]
  },
  {
   "cell_type": "markdown",
   "metadata": {},
   "source": [
    "#### 2.2_ Au niveau Territoire"
   ]
  },
  {
   "cell_type": "code",
   "execution_count": 15,
   "metadata": {},
   "outputs": [],
   "source": [
    "trendter <- function(data, nperf, mod){\n",
    "  \n",
    "  df <- subset(data, Mod == mod)\n",
    "  \n",
    "  for(i in 6:nperf){\n",
    "    \n",
    "    name <- colnames(df)[i]\n",
    "    \n",
    "    colnames(df)[i] <- \"perf\"\n",
    "    \n",
    "    df <- df %>%\n",
    "      group_by(RCP, SSP, Year)%>%\n",
    "      mutate(MoyTer = mean(perf))%>%\n",
    "      ungroup()\n",
    "    \n",
    "    df <- df %>%\n",
    "      group_by(RCP, SSP)%>%\n",
    "      mutate(TRENDf_Territory = if(all(is.na(MoyTer))) NA else lm(MoyTer ~ Year, na.action = na.exclude)$coefficients[[2]])%>% # slope of linear regression\n",
    "      ungroup()\n",
    "    \n",
    "    df <- select(df, - MoyTer)\n",
    "    \n",
    "    colnames(df)[ncol(df)] <- paste0(name,\".TRENDf_Territory\")\n",
    "    colnames(df)[i] <- name\n",
    "  }\n",
    "  return(df)\n",
    "  \n",
    "}"
   ]
  },
  {
   "cell_type": "markdown",
   "metadata": {},
   "source": [
    "### 3. Fonctions de calcul de la métrique RSD pour le CD Variability"
   ]
  },
  {
   "cell_type": "markdown",
   "metadata": {},
   "source": [
    "#### 3.1_ Au niveau Farm et Group"
   ]
  },
  {
   "cell_type": "code",
   "execution_count": 16,
   "metadata": {},
   "outputs": [],
   "source": [
    "variabilityfarm_RSD <- function(data, nperf, mod){\n",
    "  \n",
    "  df <- subset(data, Mod == mod)\n",
    "  \n",
    "  for(i in 8:nperf){\n",
    "    \n",
    "    name <- colnames(df)[i]\n",
    "    \n",
    "    colnames(df)[i] <- \"perf\"\n",
    "    \n",
    "    df <- df%>%\n",
    "      group_by(Farm, RCP, SSP)%>%\n",
    "      mutate(RSD_Farm = abs(sd(perf)/mean(perf))*100)%>% # relative standard deviation \n",
    "      ungroup()\n",
    "    \n",
    "    df <- df %>%\n",
    "      group_by(Farm_group, RCP, SSP, Year)%>%\n",
    "      mutate(MoyGroup = mean(perf))%>%\n",
    "      ungroup()\n",
    "    \n",
    "    df <- df %>%\n",
    "      group_by(Farm_group, RCP, SSP)%>%\n",
    "      mutate(RSD_Group = abs(sd(MoyGroup)/mean(MoyGroup))*100)%>% # relative standard deviation \n",
    "      ungroup()\n",
    "    \n",
    "    df <- select(df, - MoyGroup)\n",
    "    \n",
    "    colnames(df)[c((ncol(df)-1): ncol(df))] <- c(paste0(name,\".RSD_Farm\"),paste0(name,\".RSD_Group\"))\n",
    "    colnames(df)[i] <- name\n",
    "  }  \n",
    "  return(df)\n",
    "} "
   ]
  },
  {
   "cell_type": "markdown",
   "metadata": {},
   "source": [
    "#### 3.2_ Au niveau Territoire"
   ]
  },
  {
   "cell_type": "code",
   "execution_count": 17,
   "metadata": {},
   "outputs": [],
   "source": [
    "variabilityter_RSD <- function(data, nperf, mod){\n",
    "  \n",
    "  df <- subset(data, Mod == mod)\n",
    "  \n",
    "  for(i in 6:nperf){\n",
    "    \n",
    "    name <- colnames(df)[i]\n",
    "    \n",
    "    colnames(df)[i] <- \"perf\"\n",
    "    \n",
    "    df <- df %>%\n",
    "      group_by(RCP, SSP, Year)%>%\n",
    "      mutate(MoyTer = mean(perf))%>%\n",
    "      ungroup()\n",
    "    \n",
    "    df <- df %>%\n",
    "      group_by(RCP, SSP)%>%\n",
    "      mutate(RSD_Territory = abs(sd(MoyTer)/mean(MoyTer))*100)%>% # relative standard deviation \n",
    "      ungroup()\n",
    "    \n",
    "    df <- select(df, - MoyTer)\n",
    "    \n",
    "    colnames(df)[ncol(df)] <- paste0(name,\".RSD_Territory\")\n",
    "    colnames(df)[i] <- name\n",
    "  }  \n",
    "  return(df)\n",
    "} "
   ]
  },
  {
   "cell_type": "markdown",
   "metadata": {},
   "source": [
    "### 4. Fonctions de calcul de la métrique SSR pour le CD Variability"
   ]
  },
  {
   "cell_type": "markdown",
   "metadata": {},
   "source": [
    "#### 4.1_ Au niveau Farm et Group"
   ]
  },
  {
   "cell_type": "code",
   "execution_count": 18,
   "metadata": {},
   "outputs": [],
   "source": [
    "variabilityfarm_SSR <- function(data, nperf, mod){\n",
    "  \n",
    "  df <- subset(data, Mod == mod)\n",
    "  \n",
    "  for(i in 8:nperf){\n",
    "    \n",
    "    name <- colnames(df)[i]\n",
    "    \n",
    "    colnames(df)[i] <- \"perf\"\n",
    "    \n",
    "    df <- df%>%\n",
    "      group_by(Farm, RCP, SSP)%>%\n",
    "      mutate(SSR_Farm = sum((predict(lm(perf ~ Year, na.action = na.exclude)) - mean(perf))^2))%>% # sum of squared residuals \n",
    "      ungroup()\n",
    "    \n",
    "    df <- df %>%\n",
    "      group_by(Farm_group, RCP, SSP, Year)%>%\n",
    "      mutate(MoyGroup = mean(perf))%>%\n",
    "      ungroup()\n",
    "    \n",
    "    df <- df %>%\n",
    "      group_by(Farm_group, RCP, SSP)%>%\n",
    "      mutate(SSR_Group = sum((predict(lm(MoyGroup ~ Year, na.action = na.exclude)) - mean(MoyGroup))^2))%>% # sum of squared residuals\n",
    "      ungroup()\n",
    "    \n",
    "    df <- select(df, - MoyGroup)\n",
    "    \n",
    "    colnames(df)[c((ncol(df)-1): ncol(df))] <- c(paste0(name,\".SSR_Farm\"),paste0(name,\".SSR_Group\"))\n",
    "    colnames(df)[i] <- name\n",
    "  }  \n",
    "  return(df)\n",
    "}   "
   ]
  },
  {
   "cell_type": "markdown",
   "metadata": {},
   "source": [
    "#### 4.2_ Au niveau Territoire"
   ]
  },
  {
   "cell_type": "code",
   "execution_count": 19,
   "metadata": {},
   "outputs": [],
   "source": [
    "variabilityter_SSR <- function(data, nperf, mod){\n",
    "  \n",
    "  df <- subset(data, Mod == mod)\n",
    "  \n",
    "  for(i in 6:nperf){\n",
    "    \n",
    "    name <- colnames(df)[i]\n",
    "    \n",
    "    colnames(df)[i] <- \"perf\"\n",
    "    \n",
    "    df <- df %>%\n",
    "      group_by(RCP, SSP, Year)%>%\n",
    "      mutate(MoyTer = mean(perf))%>%\n",
    "      ungroup()\n",
    "    \n",
    "    df <- df %>%\n",
    "      group_by(RCP, SSP)%>%\n",
    "      mutate(SSR_Territory = sum((predict(lm(MoyTer ~ Year, na.action = na.exclude)) - mean(MoyTer))^2))%>% # sum of squared residuals\n",
    "      ungroup()\n",
    "    \n",
    "    df <- select(df, - MoyTer)\n",
    "    \n",
    "    colnames(df)[ncol(df)] <- paste0(name,\".SSR_Territory\")\n",
    "    colnames(df)[i] <- name\n",
    "  }  \n",
    "  return(df)\n",
    "}   "
   ]
  },
  {
   "cell_type": "markdown",
   "metadata": {},
   "source": [
    "### 5. Fonctions de calcul de la métrique NOD pour le CD Resistance"
   ]
  },
  {
   "cell_type": "markdown",
   "metadata": {},
   "source": [
    "#### 5.1_ Au niveau Farm et Group"
   ]
  },
  {
   "cell_type": "code",
   "execution_count": 20,
   "metadata": {},
   "outputs": [],
   "source": [
    "resistancefarm_disr <- function(data, nperf, mod){\n",
    "  \n",
    "  df <- subset(data, Mod == mod)\n",
    "  \n",
    "  for(i in 8:nperf){\n",
    "    \n",
    "    name <- colnames(df)[i]\n",
    "    \n",
    "    colnames(df)[i] <- \"perf\"\n",
    "    \n",
    "    df <- df%>%\n",
    "      group_by(Farm, RCP, SSP)%>%\n",
    "      mutate(NOD_Farm = length(perf[perf < 0.75*slide_dbl(perf, mean, .before = 2)]))%>% # number of disruption \n",
    "      ungroup()\n",
    "    \n",
    "    df <- df %>%\n",
    "      group_by(Farm_group, RCP, SSP, Year)%>%\n",
    "      mutate(MoyGroup = mean(perf))%>%\n",
    "      ungroup()\n",
    "    \n",
    "    df <- df %>%\n",
    "      group_by(Farm_group, RCP, SSP)%>%\n",
    "      mutate(NOD_Group = length(MoyGroup[MoyGroup < 0.75*slide_dbl(MoyGroup, mean, na.action = na.omit, .before = 2)]))%>% # number of disruption\n",
    "      ungroup()\n",
    "    \n",
    "    df <- select(df, - MoyGroup)\n",
    "    \n",
    "    colnames(df)[c((ncol(df)-1): ncol(df))] <- c(paste0(name,\".NOD_Farm\"),paste0(name,\".NOD_Group\"))\n",
    "    colnames(df)[i] <- name\n",
    "  }  \n",
    "  return(df)\n",
    "  \n",
    "}"
   ]
  },
  {
   "cell_type": "markdown",
   "metadata": {},
   "source": [
    "#### 5.2_ Au niveau Territoire"
   ]
  },
  {
   "cell_type": "code",
   "execution_count": 21,
   "metadata": {},
   "outputs": [],
   "source": [
    "resistanceter_disr <- function(data, nperf, mod){\n",
    "  \n",
    "  df <- subset(data, Mod == mod)\n",
    "  \n",
    "  for(i in 6:nperf){\n",
    "    \n",
    "    name <- colnames(df)[i]\n",
    "    \n",
    "    colnames(df)[i] <- \"perf\"\n",
    "    \n",
    "    df <- df %>%\n",
    "      group_by(RCP, SSP, Year)%>%\n",
    "      mutate(MoyTer = mean(perf))%>%\n",
    "      ungroup()\n",
    "    \n",
    "    df <- df %>%\n",
    "      group_by(RCP, SSP)%>%\n",
    "      mutate(NOD_Territory = length(MoyTer[MoyTer < 0.75*slide_dbl(MoyTer, mean, na.action = na.omit, .before = 2)]))%>% # number of disruption \n",
    "      ungroup()\n",
    "    \n",
    "    df <- select(df, - MoyTer)\n",
    "    \n",
    "    colnames(df)[ncol(df)] <- paste0(name,\".NOD_Territory\")\n",
    "    colnames(df)[i] <- name\n",
    "  }  \n",
    "  return(df)\n",
    "  \n",
    "}"
   ]
  },
  {
   "cell_type": "markdown",
   "metadata": {},
   "source": [
    "### 6. Fonctions de calcul de la métrique Probahigh pour le CD Resistance"
   ]
  },
  {
   "cell_type": "markdown",
   "metadata": {},
   "source": [
    "#### 6.1_ Au niveau Farm et Group"
   ]
  },
  {
   "cell_type": "code",
   "execution_count": 22,
   "metadata": {},
   "outputs": [],
   "source": [
    "resistancefarm_probapeak <- function(data, nperf, mod){\n",
    "  \n",
    "  df <- subset(data, Mod == mod)\n",
    "  \n",
    "  for(i in 8:nperf){\n",
    "    \n",
    "    name <- colnames(df)[i]\n",
    "    \n",
    "    colnames(df)[i] <- \"perf\"\n",
    "    \n",
    "    df <- df%>%\n",
    "      group_by(Farm, RCP, SSP)%>%\n",
    "      mutate(probahigh_Farm = pnorm((1.25*mean(perf) - mean(perf))/sd(perf)))%>%# probability of high performance level with threshold adapted by individuals Macholdt et al 2020\n",
    "      ungroup()\n",
    "    \n",
    "    df <- df %>%\n",
    "      group_by(Farm_group, RCP, SSP, Year)%>%\n",
    "      mutate(MoyGroup = mean(perf))%>%\n",
    "      ungroup()\n",
    "    \n",
    "    df <- df %>%\n",
    "      group_by(Farm_group, RCP, SSP)%>%\n",
    "      mutate(probahigh_Group  = pnorm((1.25*mean(MoyGroup) - mean(MoyGroup))/sd(MoyGroup)))%>%# probability of high performance level with threshold adapted by individuals Macholdt et al 2020\n",
    "      ungroup()\n",
    "    \n",
    "    df <- select(df, - MoyGroup)\n",
    "    \n",
    "    colnames(df)[c((ncol(df)-1): ncol(df))] <- c(paste0(name,\".probahigh_Farm\"),paste0(name,\".probahigh_Group\"))\n",
    "    colnames(df)[i] <- name\n",
    "  }  \n",
    "  return(df)\n",
    "  \n",
    "}"
   ]
  },
  {
   "cell_type": "markdown",
   "metadata": {},
   "source": [
    "#### 6.2_ Au niveau Territoire"
   ]
  },
  {
   "cell_type": "code",
   "execution_count": 23,
   "metadata": {},
   "outputs": [],
   "source": [
    "resistanceter_probapeak <- function(data, nperf, mod){\n",
    "  \n",
    "  df <- subset(data, Mod == mod)\n",
    "  \n",
    "  for(i in 6:nperf){\n",
    "    \n",
    "    name <- colnames(df)[i]\n",
    "    \n",
    "    colnames(df)[i] <- \"perf\"\n",
    "    \n",
    "    df <- df %>%\n",
    "      group_by(RCP, SSP, Year)%>%\n",
    "      mutate(MoyTer = mean(perf))%>%\n",
    "      ungroup()\n",
    "    \n",
    "    df <- df %>%\n",
    "      group_by(RCP, SSP)%>%\n",
    "      mutate(probahigh_Territory = pnorm((1.25*mean(MoyTer) - mean(MoyTer))/sd(MoyTer)))%>%# probability of high performance level with threshold adapted by individuals Macholdt et al 2020\n",
    "      ungroup()\n",
    "    \n",
    "    df <- select(df, - MoyTer)\n",
    "    \n",
    "    colnames(df)[ncol(df)] <- paste0(name,\".probahigh_Territory\")\n",
    "    colnames(df)[i] <- name\n",
    "  }  \n",
    "  return(df)\n",
    "  \n",
    "}"
   ]
  },
  {
   "cell_type": "markdown",
   "metadata": {},
   "source": [
    "### 7. Fonctions de création d'un dataset augmenté du calcul de toutes les métriques pour tous les levels et les PA donnés"
   ]
  },
  {
   "cell_type": "markdown",
   "metadata": {},
   "source": [
    "#### 7.1_ Au niveau Farm et Group"
   ]
  },
  {
   "cell_type": "code",
   "execution_count": 24,
   "metadata": {},
   "outputs": [],
   "source": [
    "criteriadynamics_farm <- function(datafarm, mod, nomfichierfarm){\n",
    "  \n",
    "  data_levelfarm <- levelfarm(datafarm, ncol(datafarm), mod)\n",
    "  data_trendfarm <- trendfarm(data_levelfarm, ncol(datafarm), mod)\n",
    "  data_varRSDfarm <- variabilityfarm_RSD(data_trendfarm, ncol(datafarm), mod)\n",
    "  data_varSSRfarm <- variabilityfarm_SSR(data_varRSDfarm, ncol(datafarm), mod)\n",
    "  data_resdisrfarm <- resistancefarm_disr(data_varSSRfarm, ncol(datafarm), mod)\n",
    "  data_respeakfarm <- resistancefarm_probapeak(data_resdisrfarm, ncol(datafarm), mod)\n",
    "  \n",
    "  #Save file\n",
    "  #write_excel_csv(data_respeakfarm, paste0(nomfichierfarm, mod, \"Criteria_Data.csv\"), delim = \";\", na = \"\")\n",
    "  write.table(data_respeakfarm, paste0(nomfichierfarm, mod, \"Criteria_Data.csv\"), append = FALSE, sep = \";\", dec = \".\", row.names = FALSE)\n",
    "  \n",
    "  return(data_respeakfarm)\n",
    "}"
   ]
  },
  {
   "cell_type": "markdown",
   "metadata": {},
   "source": [
    "#### 7.2_ Au niveau Territoire"
   ]
  },
  {
   "cell_type": "code",
   "execution_count": 25,
   "metadata": {},
   "outputs": [],
   "source": [
    "criteriadynamics_ter <- function(datater, mod, nomfichierter){\n",
    "  \n",
    "  data_levelter <- levelter(datater, ncol(datater), mod)\n",
    "  data_trendter <- trendter(data_levelter, ncol(datater), mod)\n",
    "  data_varRSDter <- variabilityter_RSD(data_trendter, ncol(datater), mod)\n",
    "  data_varSSRter <- variabilityter_SSR(data_varRSDter, ncol(datater), mod)\n",
    "  data_resdisrter <- resistanceter_disr(data_varSSRter, ncol(datater), mod)\n",
    "  data_respeakter <- resistanceter_probapeak(data_resdisrter, ncol(datater), mod)\n",
    "  \n",
    "  #Save file\n",
    "  #write_excel_csv(data_respeakter, paste0(nomfichierter, mod, \"Criteria_Data.csv\"), delim = \";\", na = \"\")\n",
    "  write.table(data_respeakter, paste0(nomfichierter, mod, \"Criteria_Data.csv\"), append = FALSE, sep = \";\", dec = \".\", row.names = FALSE)\n",
    "  \n",
    "  return(data_respeakter)\n",
    "}"
   ]
  }
 ],
 "metadata": {
  "kernelspec": {
   "display_name": "R",
   "language": "R",
   "name": "ir"
  },
  "language_info": {
   "codemirror_mode": "r",
   "file_extension": ".r",
   "mimetype": "text/x-r-source",
   "name": "R",
   "pygments_lexer": "r",
   "version": "3.6.1"
  }
 },
 "nbformat": 4,
 "nbformat_minor": 4
}
